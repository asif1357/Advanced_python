{
 "cells": [
  {
   "cell_type": "markdown",
   "id": "3977c76b",
   "metadata": {},
   "source": [
    "# Assignment 6\n",
    "1. An exception in Python is an incident that happens while executing a program that causes the regular course of the        program's commands to be disrupted.try:, except:, finally:\n",
    "2. If exception not handled then our program terminates abnormally skipping further execution\n",
    "3. In Python, we catch exceptions and handle them using try and except code blocks. The try clause contains the code that    can raise an exception, while the except clause contains the code lines that handle the exception.\n",
    "4. a=5/0......triggers ZeroDivisionError \n",
    "   int(input(print(\"enter a integer value\"))).....triggers a ValueError on entering a non integer value\n"
   ]
  }
 ],
 "metadata": {
  "kernelspec": {
   "display_name": "Python 3 (ipykernel)",
   "language": "python",
   "name": "python3"
  },
  "language_info": {
   "codemirror_mode": {
    "name": "ipython",
    "version": 3
   },
   "file_extension": ".py",
   "mimetype": "text/x-python",
   "name": "python",
   "nbconvert_exporter": "python",
   "pygments_lexer": "ipython3",
   "version": "3.9.12"
  }
 },
 "nbformat": 4,
 "nbformat_minor": 5
}
