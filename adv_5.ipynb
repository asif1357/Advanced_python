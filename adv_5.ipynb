{
 "cells": [
  {
   "cell_type": "markdown",
   "id": "99470abc",
   "metadata": {},
   "source": [
    "# Assignment 5\n",
    "1. when a class inherits more than ane class (comma seperated) then it is called multiple inheritance\n",
    "2. delegation allows object composition to achieve the same code reuse as inheritance\n",
    "3. composition also refered to as has a reletionship is nothing but using one class members in other class by creating an    object of it or by using reference of the object\n",
    "4. If a function is an attribute of class and it is accessed via the instances, they are called bound methods. \n",
    "5. Python's pseudo-private attributes actually implement variable name localization through variable name compression        (mangling)"
   ]
  }
 ],
 "metadata": {
  "kernelspec": {
   "display_name": "Python 3 (ipykernel)",
   "language": "python",
   "name": "python3"
  },
  "language_info": {
   "codemirror_mode": {
    "name": "ipython",
    "version": 3
   },
   "file_extension": ".py",
   "mimetype": "text/x-python",
   "name": "python",
   "nbconvert_exporter": "python",
   "pygments_lexer": "ipython3",
   "version": "3.9.12"
  }
 },
 "nbformat": 4,
 "nbformat_minor": 5
}
