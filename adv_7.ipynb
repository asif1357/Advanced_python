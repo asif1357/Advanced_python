{
 "cells": [
  {
   "cell_type": "markdown",
   "id": "5375675e",
   "metadata": {},
   "source": [
    "# Assignment 7\n",
    "1. The part of code which may raise exception (risky code) is written inside try block\n",
    "2. try-except and try-except-finally\n",
    "3. The raise keyword is used to raise an exception. You can define what kind of error to raise, and the text to print to      the user\n",
    "4. The assert keyword is used when debugging code. The assert keyword lets you test if a condition in your code returns      True, if not, the program will raise an AssertionError.\n",
    "5. with statement in Python is used in exception handling to make the code cleaner and much more readable"
   ]
  }
 ],
 "metadata": {
  "kernelspec": {
   "display_name": "Python 3 (ipykernel)",
   "language": "python",
   "name": "python3"
  },
  "language_info": {
   "codemirror_mode": {
    "name": "ipython",
    "version": 3
   },
   "file_extension": ".py",
   "mimetype": "text/x-python",
   "name": "python",
   "nbconvert_exporter": "python",
   "pygments_lexer": "ipython3",
   "version": "3.9.12"
  }
 },
 "nbformat": 4,
 "nbformat_minor": 5
}
